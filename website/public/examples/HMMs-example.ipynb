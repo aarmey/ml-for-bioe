{
 "cells": [
  {
   "cell_type": "markdown",
   "metadata": {},
   "source": [
    "# HMM Example"
   ]
  },
  {
   "cell_type": "code",
   "execution_count": null,
   "metadata": {},
   "outputs": [],
   "source": [
    "% matplotlib inline\n",
    "import numpy as np\n",
    "from hmmlearn.hmm import GaussianHMM\n",
    "import matplotlib.pyplot as plt\n",
    "\n",
    "import warnings\n",
    "warnings.filterwarnings(\"ignore\", category=DeprecationWarning)"
   ]
  },
  {
   "cell_type": "code",
   "execution_count": null,
   "metadata": {},
   "outputs": [],
   "source": [
    "toSick = 0.001\n",
    "toWell = 0.02\n",
    "\n",
    "model = GaussianHMM(n_components=2, covariance_type='tied')\n",
    "model.startprob_ = np.array([1, 0]) # Healthy is 0, sick is 1\n",
    "model.transmat_ = np.array([[1 - toSick, toSick], [toWell, 1 - toWell]])\n",
    "\n",
    "print(model.transmat_)\n",
    "\n",
    "model.means_ = np.reshape(np.array([98.6, 100.2]), (2, 1))\n",
    "model._covars_ = np.array([[3]])\n",
    "\n",
    "model._check()"
   ]
  },
  {
   "cell_type": "code",
   "execution_count": null,
   "metadata": {},
   "outputs": [],
   "source": [
    "data, samm = model.sample(n_samples = 1000, random_state=4)"
   ]
  },
  {
   "cell_type": "code",
   "execution_count": null,
   "metadata": {},
   "outputs": [],
   "source": [
    "plt.plot(data);"
   ]
  },
  {
   "cell_type": "code",
   "execution_count": null,
   "metadata": {},
   "outputs": [],
   "source": [
    "def movingaverage (values, window):\n",
    "    weights = np.repeat(1.0, window)/window\n",
    "    return np.convolve(np.squeeze(values), weights, 'valid')\n",
    "\n",
    "plt.plot(movingaverage(data, 20));"
   ]
  },
  {
   "cell_type": "code",
   "execution_count": null,
   "metadata": {},
   "outputs": [],
   "source": [
    "# Make an HMM instance and execute fit\n",
    "modelPred = GaussianHMM(n_components=2, n_iter=10000, tol=0.00001)\n",
    "\n",
    "\n",
    "# Use EM to fit the parameters of a model\n",
    "modelPred.fit(data);\n",
    "\n",
    "# startprob_, transmat_, means_, _covars_\n",
    "print(modelPred.means_)"
   ]
  },
  {
   "cell_type": "code",
   "execution_count": null,
   "metadata": {},
   "outputs": [],
   "source": [
    "# Predict the optimal sequence of internal hidden state\n",
    "hidden_states = modelPred.predict(data)\n",
    "\n",
    "plt.plot(hidden_states);"
   ]
  },
  {
   "cell_type": "code",
   "execution_count": null,
   "metadata": {},
   "outputs": [],
   "source": [
    "stateP = modelPred.predict_proba(data)\n",
    "\n",
    "plt.plot(np.log10(stateP));\n",
    "plt.ylim(-5, 0.1);"
   ]
  },
  {
   "cell_type": "code",
   "execution_count": null,
   "metadata": {},
   "outputs": [],
   "source": [
    "# How sure can we be a sickness event occured?\n",
    "maxL = modelPred.score(data)\n",
    "\n",
    "modelPredOne = GaussianHMM(n_components=1, n_iter=10000, tol=0.00001)\n",
    "modelPredOne.fit(data)\n",
    "\n",
    "wellL = modelPredOne.score(data)\n",
    "\n",
    "print(maxL)\n",
    "print(wellL)"
   ]
  },
  {
   "cell_type": "code",
   "execution_count": null,
   "metadata": {},
   "outputs": [],
   "source": [
    "plt.plot(samm);"
   ]
  },
  {
   "cell_type": "code",
   "execution_count": null,
   "metadata": {},
   "outputs": [],
   "source": []
  }
 ],
 "metadata": {
  "kernel_info": {
   "name": "python3"
  },
  "kernelspec": {
   "display_name": "Python 3",
   "language": "python",
   "name": "python3"
  },
  "language_info": {
   "codemirror_mode": {
    "name": "ipython",
    "version": 3
   },
   "file_extension": ".py",
   "mimetype": "text/x-python",
   "name": "python",
   "nbconvert_exporter": "python",
   "pygments_lexer": "ipython3",
   "version": "3.6.3"
  },
  "nteract": {
   "version": "0.7.1"
  }
 },
 "nbformat": 4,
 "nbformat_minor": 2
}
