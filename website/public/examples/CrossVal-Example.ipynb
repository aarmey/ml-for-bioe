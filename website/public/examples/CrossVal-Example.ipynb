{
 "cells": [
  {
   "cell_type": "markdown",
   "metadata": {},
   "source": [
    "# Cross-Validation"
   ]
  },
  {
   "cell_type": "code",
   "execution_count": null,
   "metadata": {
    "collapsed": true,
    "deletable": true,
    "editable": true
   },
   "outputs": [],
   "source": [
    "import matplotlib.pyplot as plt\n",
    "import numpy as np\n",
    "import scipy as sp\n",
    "from sklearn.linear_model import LinearRegression\n",
    "from sklearn.model_selection import cross_val_score, cross_val_predict, KFold\n",
    "from sklearn.metrics import r2_score\n",
    "from sklearn.utils import resample"
   ]
  },
  {
   "cell_type": "code",
   "execution_count": null,
   "metadata": {
    "collapsed": false,
    "deletable": true,
    "editable": true
   },
   "outputs": [],
   "source": [
    "rng = np.random.RandomState(1)\n",
    "x = 10 * rng.rand(50)\n",
    "X = x[:, np.newaxis]\n",
    "y = 2 * x - 5 + rng.randn(50)\n",
    "plt.scatter(x, y);"
   ]
  },
  {
   "cell_type": "code",
   "execution_count": null,
   "metadata": {
    "collapsed": false,
    "deletable": true,
    "editable": true
   },
   "outputs": [],
   "source": [
    "model = LinearRegression(fit_intercept=True)\n",
    "\n",
    "model.fit(X, y)\n",
    "print(model.score(X, y))\n",
    "\n",
    "xfit = np.linspace(0, 10, 1000)\n",
    "yfit = model.predict(xfit[:, np.newaxis])\n",
    "\n",
    "plt.scatter(x, y)\n",
    "plt.plot(xfit, yfit);"
   ]
  },
  {
   "cell_type": "code",
   "execution_count": null,
   "metadata": {
    "collapsed": false,
    "deletable": true,
    "editable": true
   },
   "outputs": [],
   "source": [
    "print(cross_val_score(model, X, y, cv=3))"
   ]
  },
  {
   "cell_type": "code",
   "execution_count": null,
   "metadata": {},
   "outputs": [],
   "source": [
    "y_pred = cross_val_predict(model, X, y, cv=3)\n",
    "r2_score(y, y_pred)"
   ]
  },
  {
   "cell_type": "markdown",
   "metadata": {},
   "source": [
    "# More manual cross-validation"
   ]
  },
  {
   "cell_type": "code",
   "execution_count": null,
   "metadata": {},
   "outputs": [],
   "source": [
    "X = np.logspace(-3, 2, num=15)\n",
    "Y = 1.0 * X / (1.0 + 0.4 * X) + 0.5 * rng.randn(*X.shape)\n",
    "\n",
    "plt.semilogx(X, Y,'.');\n",
    "plt.xlabel('Concentration [nM]')\n",
    "plt.ylabel('Binding');"
   ]
  },
  {
   "cell_type": "code",
   "execution_count": null,
   "metadata": {},
   "outputs": [],
   "source": [
    "def klotz1(xx, lig):\n",
    "    \"\"\" A function defining our binding curve. \"\"\"\n",
    "    return (xx[1]*lig)/(1 + xx[0]*lig)\n",
    "\n",
    "def ls_obj_k1(xx, ligs, data):\n",
    "    \"\"\" A function that returns the residuals between our prediction and the data. \"\"\"\n",
    "    return(data - klotz1(xx,ligs))"
   ]
  },
  {
   "cell_type": "code",
   "execution_count": null,
   "metadata": {},
   "outputs": [],
   "source": [
    "x0 = np.array([1.1, 0.9])\n",
    "res = sp.optimize.least_squares(ls_obj_k1, x0, args=(X,Y))\n",
    "assert res.success\n",
    "\n",
    "plt.plot(Y, klotz1(res.x, X), '.')\n",
    "plt.plot(Y, Y, 'r-')\n",
    "plt.xlabel(\"Actual\")\n",
    "plt.ylabel(\"Fit\");"
   ]
  },
  {
   "cell_type": "code",
   "execution_count": null,
   "metadata": {},
   "outputs": [],
   "source": [
    "kf = KFold(n_splits=2, shuffle=True)\n",
    "Y_pred = np.empty_like(Y)\n",
    "\n",
    "for train_index, test_index in kf.split(X):\n",
    "    res = sp.optimize.least_squares(ls_obj_k1, x0, args=(X[train_index], Y[train_index]))\n",
    "\n",
    "    Y_pred[test_index] = klotz1(res.x, X[test_index])\n",
    "\n",
    "plt.plot(Y, Y_pred, '.')\n",
    "plt.plot(Y, Y, 'r-')\n",
    "plt.xlabel(\"Actual\")\n",
    "plt.ylabel(\"Predicted\");"
   ]
  },
  {
   "cell_type": "markdown",
   "metadata": {},
   "source": [
    "# Bootstrap"
   ]
  },
  {
   "cell_type": "code",
   "execution_count": null,
   "metadata": {},
   "outputs": [],
   "source": [
    "p_boot = np.empty((2, 1000))\n",
    "\n",
    "for bootstrapi in range(p_boot.shape[1]):\n",
    "    resamp = resample(range(X.shape[0]))\n",
    "\n",
    "    res = sp.optimize.least_squares(ls_obj_k1, x0, args=(X[resamp], Y[resamp]))\n",
    "    p_boot[:, bootstrapi] = res.x"
   ]
  },
  {
   "cell_type": "code",
   "execution_count": null,
   "metadata": {},
   "outputs": [],
   "source": [
    "plt.scatter(p_boot[0, :], p_boot[1, :], s=0.2)\n",
    "plt.xlabel(r\"$x_1$\")\n",
    "plt.ylabel(r\"$x_2$\");"
   ]
  }
 ],
 "metadata": {
  "anaconda-cloud": {},
  "kernelspec": {
   "display_name": "Python 3",
   "language": "python",
   "name": "python3"
  },
  "language_info": {
   "codemirror_mode": {
    "name": "ipython",
    "version": 3
   },
   "file_extension": ".py",
   "mimetype": "text/x-python",
   "name": "python",
   "nbconvert_exporter": "python",
   "pygments_lexer": "ipython3",
   "version": "3.10.9"
  },
  "vscode": {
   "interpreter": {
    "hash": "a0a5145e6c304e2a9afaf5b930a2955b950bd4b81fe94f7c42930f43f42762eb"
   }
  }
 },
 "nbformat": 4,
 "nbformat_minor": 0
}
